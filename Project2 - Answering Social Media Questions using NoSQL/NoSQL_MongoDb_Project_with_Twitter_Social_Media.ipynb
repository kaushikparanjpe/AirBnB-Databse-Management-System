{
 "cells": [
  {
   "cell_type": "markdown",
   "metadata": {},
   "source": [
    "# Final Project 2 - NoSQL Database for AirBnB"
   ]
  },
  {
   "cell_type": "code",
   "execution_count": 13,
   "metadata": {},
   "outputs": [],
   "source": [
    "import pandas as pd\n",
    "import json\n",
    "from bson import json_util\n",
    "from pymongo import MongoClient\n",
    "client = MongoClient()\n",
    "db = client.airbnb"
   ]
  },
  {
   "cell_type": "code",
   "execution_count": 21,
   "metadata": {},
   "outputs": [
    {
     "name": "stdout",
     "output_type": "stream",
     "text": [
      "95740 The host canceled this reservation 54 days before arrival. This is an automated posting.\n",
      "----------\n",
      "65419 The reservation was canceled 10 days before arrival. This is an automated posting.\n",
      "----------\n",
      "65419 Hetty ist eine wunderbare Gastgeberin!\r",
      "\r\n",
      "Wir haben uns rundum wohl gefühlt, vielen Dank dafür!\n",
      "----------\n",
      "65419 The host canceled this reservation 60 days before arrival. This is an automated posting.\n",
      "----------\n",
      "100407 Awesome host! Quick and easy communication. The apartment is as advertised. Clean and comfortable with easy access to the city. Residential neighborhood but close to some nightlife and tourist sights (museums, etc.). \r\n",
      "\r\n",
      "Had a great time in Abby's apartment would highly recommend it to anyone visiting Amsterdam and I'll definitely be staying there again when I come back! Thanks, Abby!\n",
      "----------\n",
      "83552 Great location and lovely apartment. Emma's sister met us at the apartment and got my wife and I situated. Would stay again without a seconds hesitation.\n",
      "----------\n"
     ]
    }
   ],
   "source": [
    "#. What are people saying about me (somebody)?\n",
    "#Ans. Fetch the Reviews for each of the matching Listing_id between Reviews and Property_Listings Collections.\n",
    "\n",
    "cursor = db.Reviews.aggregate([ { \"$lookup\" :  {  \"from\": \"Property_listings\",  \"localField\": \"listing_id\",  \"foreignField\": \"listing_id\",  \"as\":\"match_reviews\"   } }])\n",
    "i=0\n",
    "for review in cursor:\n",
    "    if i > 5:\n",
    "        break\n",
    "    else:\n",
    "        print(review['listing_id'], review['comments'])\n",
    "        print(\"----------\")\n",
    "        i+=1\n",
    "    "
   ]
  },
  {
   "cell_type": "code",
   "execution_count": 23,
   "metadata": {},
   "outputs": [
    {
     "name": "stdout",
     "output_type": "stream",
     "text": [
      "Should not contain url\n"
     ]
    }
   ],
   "source": [
    "#xi. Should I add and picture or url to my post?\n",
    "#Ans. Check for likes/retweets of posts with and without URL.\n",
    "#     IF count is of posts' likes/retweets with URL > count of posts' likes/retweets without URL\n",
    "#     THEN\n",
    "#     URL is should be metioned in post\n",
    "#     ELSE\n",
    "#     No need to add URL to post. \n",
    "c1 = db.TweetDetils.aggregate([ {\"$match\":{\"urls\":{\"$size\":0}}}, {\"$group\" : {\"_id\":\"null\", \"score\":{\"$sum\":\"$retweet_cnt\"}}},  {\"$sort\":{\"score\" : -1}}])\n",
    "cnt_url=0\n",
    "cnt_no_url = 0\n",
    "for rec in c1:\n",
    "    cnt_url = rec[\"score\"]\n",
    "\n",
    "c2 = db.TweetDetils.aggregate([ {\"$match\":{\"urls\":{\"$size\":1}}}, {\"$group\" : {\"_id\":\"null\", \"score\":{\"$sum\":\"$retweet_cnt\"}}},  {\"$sort\":{\"score\" : -1}}])\n",
    "for rec in c2:\n",
    "    cnt_no_url = rec[\"score\"]\n",
    "    \n",
    "if cnt_url >= cnt_no_url:\n",
    "    print(\"Should Contain URL\")\n",
    "else:\n",
    "    print(\"Should not contain url\")\n"
   ]
  },
  {
   "cell_type": "code",
   "execution_count": 25,
   "metadata": {},
   "outputs": [
    {
     "name": "stdout",
     "output_type": "stream",
     "text": [
      "johnlegend 1209\n",
      "CGTNOfficial 251\n",
      "cottage_green 139\n",
      "Miteymiss 122\n",
      "Airbnb 122\n"
     ]
    }
   ],
   "source": [
    "#ii. How viral are my posts?\n",
    "#Ans. Get the sum of all the fav_cnt and group by users order by fav_cnt desc;\n",
    "#     The user with most counts has the most viral posts.\n",
    "cursor = db.TweetDetils.aggregate([ {\"$group\" : {\"_id\":\"$user_name\", \"score\":{\"$sum\":\"$fav_cnt\"}}},  {\"$sort\":{\"score\" : -1}},{\"$limit\":5}])\n",
    "for rec in cursor:\n",
    "    print(rec[\"_id\"], rec[\"score\"])"
   ]
  },
  {
   "cell_type": "code",
   "execution_count": 26,
   "metadata": {},
   "outputs": [
    {
     "name": "stdout",
     "output_type": "stream",
     "text": [
      "PAKO0699 13682\n",
      "arianaisquaking 6841\n",
      "Theus_Antonny 6841\n",
      "intoyougabi 6841\n",
      "theesztikocsis 6841\n"
     ]
    }
   ],
   "source": [
    "#iii. How much influence to my posts have?\n",
    "#Ans. Get the sum of all the retweeted tweets and group by users  \n",
    "#     The users with most counts is most influencial\n",
    "cursor = db.TweetDetils.aggregate([ {\"$group\" : {\"_id\":\"$user_name\", \"score\":{\"$sum\":\"$retweet_cnt\"}}},  {\"$sort\":{\"score\" : -1}},{\"$limit\":5}])\n",
    "for rec in cursor:\n",
    "    print(rec[\"_id\"], rec[\"score\"])"
   ]
  }
 ],
 "metadata": {
  "kernelspec": {
   "display_name": "Python 3",
   "language": "python",
   "name": "python3"
  },
  "language_info": {
   "codemirror_mode": {
    "name": "ipython",
    "version": 3
   },
   "file_extension": ".py",
   "mimetype": "text/x-python",
   "name": "python",
   "nbconvert_exporter": "python",
   "pygments_lexer": "ipython3",
   "version": "3.6.3"
  }
 },
 "nbformat": 4,
 "nbformat_minor": 2
}
